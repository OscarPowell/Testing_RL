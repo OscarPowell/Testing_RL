{
 "cells": [
  {
   "cell_type": "code",
   "execution_count": 10,
   "metadata": {},
   "outputs": [],
   "source": [
    "import numpy as np\n",
    "import random as rndm\n",
    "import gym\n",
    "import math\n",
    "import time\n",
    "import matplotlib.pyplot as plt"
   ]
  },
  {
   "cell_type": "code",
   "execution_count": 13,
   "metadata": {},
   "outputs": [
    {
     "name": "stdout",
     "output_type": "stream",
     "text": [
      "[ 0.70433779  0.613976   -0.90613441 -0.69773671]\n",
      "[ 1.69041071  1.53494001 -0.18978035 -0.69773671]\n"
     ]
    }
   ],
   "source": [
    "env = gym.make(\"CartPole-v1\")\n",
    "\n",
    "#First generate an array of 4 random numbers from -1 to 1. Then multiply by the max absolute values for observations matrix.\n",
    "observation_space_actual = [2.4, 2.5, 12*2*math.pi/360, 1]\n",
    "Snew = np.random.rand(4)*2 - 1 #Generate numbers from -1 to 1\n",
    "print(Snew)\n",
    "Snew = Snew * observation_space_actual #Generate random states within correct range.\n",
    "print(Snew)"
   ]
  },
  {
   "cell_type": "code",
   "execution_count": null,
   "metadata": {},
   "outputs": [
    {
     "name": "stdout",
     "output_type": "stream",
     "text": [
      "61\n",
      "61\n"
     ]
    }
   ],
   "source": [
    "n = 60000\n",
    "plot_episodes = np.linspace(0, n, int(n/1000 + 1)) #every 2000 episodes we tale a data point\n",
    "plot_rewards = plot_episodes\n",
    "print(plot_episodes.size)\n",
    "print(plot_rewards.size)\n",
    "plot_rewards = plot_rewards*2"
   ]
  },
  {
   "cell_type": "code",
   "execution_count": null,
   "metadata": {},
   "outputs": [],
   "source": [
    "DISCOUNT = 0.95\n",
    "EPISODES = 60000\n",
    "total = 0\n",
    "total_reward = 0\n",
    "prior_reward = 0\n",
    "\n",
    "Observation = [30, 30, 50, 50] #first two variables not as important as the other two.\n",
    "np_array_win_size = np.array([0.25, 0.25, 0.01, 0.1]) #steps for each.\n",
    "\n",
    "epsilon = 1\n",
    "\n",
    "epsilon_decay_value = 0.99995"
   ]
  },
  {
   "cell_type": "code",
   "execution_count": null,
   "metadata": {},
   "outputs": [],
   "source": []
  },
  {
   "cell_type": "code",
   "execution_count": null,
   "metadata": {},
   "outputs": [
    {
     "data": {
      "image/png": "[encoded data removed]",
      "text/plain": [
       "<Figure size 432x288 with 1 Axes>"
      ]
     },
     "metadata": {
      "needs_background": "light"
     },
     "output_type": "display_data"
    }
   ],
   "source": [
    "fig, ax = plt.subplots()  # Create a figure containing a single axes.\n",
    "ax.plot(plot_episodes, plot_rewards);  # Plot some data on the axes."
   ]
  },
  {
   "cell_type": "code",
   "execution_count": null,
   "metadata": {},
   "outputs": [
    {
     "name": "stdout",
     "output_type": "stream",
     "text": [
      "[0. 0. 0.]\n",
      "[2. 3. 4.]\n",
      "[[0. 0. 0. 0.]\n",
      " [0. 0. 0. 0.]\n",
      " [0. 0. 0. 0.]\n",
      " [0. 0. 0. 0.]\n",
      " [0. 0. 0. 0.]\n",
      " [0. 0. 0. 0.]\n",
      " [0. 0. 0. 0.]\n",
      " [0. 0. 0. 0.]\n",
      " [0. 0. 0. 0.]\n",
      " [0. 0. 0. 0.]\n",
      " [0. 0. 0. 0.]\n",
      " [0. 0. 0. 0.]\n",
      " [0. 0. 0. 0.]\n",
      " [0. 0. 0. 0.]\n",
      " [0. 0. 0. 0.]\n",
      " [0. 0. 0. 0.]\n",
      " [0. 0. 0. 0.]\n",
      " [0. 0. 0. 0.]\n",
      " [0. 0. 0. 0.]\n",
      " [0. 0. 0. 0.]\n",
      " [0. 0. 0. 0.]\n",
      " [0. 0. 0. 0.]\n",
      " [0. 0. 0. 0.]\n",
      " [0. 0. 0. 0.]\n",
      " [0. 0. 0. 0.]\n",
      " [0. 0. 0. 0.]\n",
      " [0. 0. 0. 0.]\n",
      " [0. 0. 0. 0.]\n",
      " [0. 0. 0. 0.]\n",
      " [0. 0. 0. 0.]\n",
      " [0. 0. 0. 0.]\n",
      " [0. 0. 0. 0.]\n",
      " [0. 0. 0. 0.]\n",
      " [0. 0. 0. 0.]\n",
      " [0. 0. 0. 0.]\n",
      " [0. 0. 0. 0.]\n",
      " [0. 0. 0. 0.]\n",
      " [0. 0. 0. 0.]\n",
      " [0. 0. 0. 0.]\n",
      " [0. 0. 0. 0.]\n",
      " [0. 0. 0. 0.]\n",
      " [0. 0. 0. 0.]\n",
      " [0. 0. 0. 0.]\n",
      " [0. 0. 0. 0.]\n",
      " [0. 0. 0. 0.]\n",
      " [0. 0. 0. 0.]\n",
      " [0. 0. 0. 0.]\n",
      " [0. 0. 0. 0.]\n",
      " [0. 0. 0. 0.]\n",
      " [0. 0. 0. 0.]\n",
      " [0. 0. 0. 0.]\n",
      " [0. 0. 0. 0.]\n",
      " [0. 0. 0. 0.]\n",
      " [0. 0. 0. 0.]\n",
      " [0. 0. 0. 0.]\n",
      " [0. 0. 0. 0.]\n",
      " [0. 0. 0. 0.]\n",
      " [0. 0. 0. 0.]\n",
      " [0. 0. 0. 0.]\n",
      " [0. 0. 0. 0.]\n",
      " [0. 0. 0. 0.]\n",
      " [0. 0. 0. 0.]\n",
      " [0. 0. 0. 0.]\n",
      " [0. 0. 0. 0.]\n",
      " [0. 0. 0. 0.]\n",
      " [0. 0. 0. 0.]\n",
      " [0. 0. 0. 0.]\n",
      " [0. 0. 0. 0.]\n",
      " [0. 0. 0. 0.]\n",
      " [0. 0. 0. 0.]\n",
      " [0. 0. 0. 0.]\n",
      " [0. 0. 0. 0.]\n",
      " [0. 0. 0. 0.]\n",
      " [0. 0. 0. 0.]\n",
      " [0. 0. 0. 0.]\n",
      " [0. 0. 0. 0.]\n",
      " [0. 0. 0. 0.]\n",
      " [0. 0. 0. 0.]\n",
      " [0. 0. 0. 0.]\n",
      " [0. 0. 0. 0.]\n",
      " [0. 0. 0. 0.]]\n",
      "[[2. 2. 2. 2.]\n",
      " [2. 2. 2. 3.]\n",
      " [2. 2. 2. 4.]\n",
      " [2. 2. 3. 2.]\n",
      " [2. 2. 3. 3.]\n",
      " [2. 2. 3. 4.]\n",
      " [2. 2. 4. 2.]\n",
      " [2. 2. 4. 3.]\n",
      " [2. 2. 4. 4.]\n",
      " [2. 3. 2. 2.]\n",
      " [2. 3. 2. 3.]\n",
      " [2. 3. 2. 4.]\n",
      " [2. 3. 3. 2.]\n",
      " [2. 3. 3. 3.]\n",
      " [2. 3. 3. 4.]\n",
      " [2. 3. 4. 2.]\n",
      " [2. 3. 4. 3.]\n",
      " [2. 3. 4. 4.]\n",
      " [2. 4. 2. 2.]\n",
      " [2. 4. 2. 3.]\n",
      " [2. 4. 2. 4.]\n",
      " [2. 4. 3. 2.]\n",
      " [2. 4. 3. 3.]\n",
      " [2. 4. 3. 4.]\n",
      " [2. 4. 4. 2.]\n",
      " [2. 4. 4. 3.]\n",
      " [2. 4. 4. 4.]\n",
      " [3. 2. 2. 2.]\n",
      " [3. 2. 2. 3.]\n",
      " [3. 2. 2. 4.]\n",
      " [3. 2. 3. 2.]\n",
      " [3. 2. 3. 3.]\n",
      " [3. 2. 3. 4.]\n",
      " [3. 2. 4. 2.]\n",
      " [3. 2. 4. 3.]\n",
      " [3. 2. 4. 4.]\n",
      " [3. 3. 2. 2.]\n",
      " [3. 3. 2. 3.]\n",
      " [3. 3. 2. 4.]\n",
      " [3. 3. 3. 2.]\n",
      " [3. 3. 3. 3.]\n",
      " [3. 3. 3. 4.]\n",
      " [3. 3. 4. 2.]\n",
      " [3. 3. 4. 3.]\n",
      " [3. 3. 4. 4.]\n",
      " [3. 4. 2. 2.]\n",
      " [3. 4. 2. 3.]\n",
      " [3. 4. 2. 4.]\n",
      " [3. 4. 3. 2.]\n",
      " [3. 4. 3. 3.]\n",
      " [3. 4. 3. 4.]\n",
      " [3. 4. 4. 2.]\n",
      " [3. 4. 4. 3.]\n",
      " [3. 4. 4. 4.]\n",
      " [4. 2. 2. 2.]\n",
      " [4. 2. 2. 3.]\n",
      " [4. 2. 2. 4.]\n",
      " [4. 2. 3. 2.]\n",
      " [4. 2. 3. 3.]\n",
      " [4. 2. 3. 4.]\n",
      " [4. 2. 4. 2.]\n",
      " [4. 2. 4. 3.]\n",
      " [4. 2. 4. 4.]\n",
      " [4. 3. 2. 2.]\n",
      " [4. 3. 2. 3.]\n",
      " [4. 3. 2. 4.]\n",
      " [4. 3. 3. 2.]\n",
      " [4. 3. 3. 3.]\n",
      " [4. 3. 3. 4.]\n",
      " [4. 3. 4. 2.]\n",
      " [4. 3. 4. 3.]\n",
      " [4. 3. 4. 4.]\n",
      " [4. 4. 2. 2.]\n",
      " [4. 4. 2. 3.]\n",
      " [4. 4. 2. 4.]\n",
      " [4. 4. 3. 2.]\n",
      " [4. 4. 3. 3.]\n",
      " [4. 4. 3. 4.]\n",
      " [4. 4. 4. 2.]\n",
      " [4. 4. 4. 3.]\n",
      " [4. 4. 4. 4.]]\n"
     ]
    }
   ],
   "source": [
    "#finding neighbouring states of S\n",
    "\n",
    "#try a row of 9 squares\n",
    "S = 3\n",
    "S_neighbours = np.zeros(3)\n",
    "print(S_neighbours)\n",
    "step = 0\n",
    "i = S\n",
    "for S_perturbed in [i-1,i,i+1]:\n",
    "    S_neighbours[step] = S_perturbed\n",
    "    step = step + 1\n",
    "print(S_neighbours)\n",
    "\n",
    "#try a 9x9 grid\n",
    "S = [3,3,3,3]\n",
    "S_neighbours = np.zeros((3*3*3*3,4))\n",
    "print(S_neighbours)\n",
    "step = 0\n",
    "S_i = S[0]\n",
    "S_j = S[1]\n",
    "S_k = S[2]\n",
    "S_l = S[3]\n",
    "for i in [S_i-1, S_i, S_i+1]:\n",
    "    for j in [S_j-1, S_j, S_j+1]:\n",
    "        for k in [S_k-1, S_k, S_k+1]:\n",
    "            for l in [S_l-1, S_l, S_l+1]:\n",
    "                S_neighbours[step] = np.array([i,j,k,l])\n",
    "                step = step + 1\n",
    "print(S_neighbours)\n",
    "    "
   ]
  },
  {
   "cell_type": "code",
   "execution_count": 38,
   "metadata": {},
   "outputs": [
    {
     "name": "stdout",
     "output_type": "stream",
     "text": [
      "(14, 11, 0, 0)\n"
     ]
    },
    {
     "data": {
      "text/plain": [
       "0.9413159356013543"
      ]
     },
     "execution_count": 38,
     "metadata": {},
     "output_type": "execute_result"
    }
   ],
   "source": [
    "import pickle\n",
    "Q_file = open('trained_Q.p', 'rb')\n",
    "Q = pickle.load(Q_file)      #obtained a Q-matrix estimate from previous training \n",
    "Q_file.close()    \n",
    "\n",
    "S_neighbours = tuple(np.array([14.0,11.0,0.0,0.0]).astype(int))\n",
    "print(S_neighbours)\n",
    "Q[S_neighbours + (1,)]"
   ]
  },
  {
   "cell_type": "code",
   "execution_count": null,
   "metadata": {},
   "outputs": [],
   "source": []
  }
 ],
 "metadata": {
  "interpreter": {
   "hash": "0a66d80eec2cf75596d5ec2c2e4a612679fac0bfe77f0a2ea851290eecace26d"
  },
  "kernelspec": {
   "display_name": "Python 3",
   "language": "python",
   "name": "python3"
  },
  "language_info": {
   "codemirror_mode": {
    "name": "ipython",
    "version": 3
   },
   "file_extension": ".py",
   "mimetype": "text/x-python",
   "name": "python",
   "nbconvert_exporter": "python",
   "pygments_lexer": "ipython3",
   "version": "3.8.8"
  }
 },
 "nbformat": 4,
 "nbformat_minor": 2
}
